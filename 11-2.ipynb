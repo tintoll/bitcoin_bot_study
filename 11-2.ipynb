{
 "cells": [
  {
   "cell_type": "markdown",
   "id": "8ed38d72",
   "metadata": {},
   "source": [
    "업비트 모듈 설치"
   ]
  },
  {
   "cell_type": "code",
   "execution_count": null,
   "id": "3574cef0",
   "metadata": {},
   "outputs": [],
   "source": [
    "!pip install pyupbit"
   ]
  },
  {
   "cell_type": "markdown",
   "id": "26d54360",
   "metadata": {},
   "source": [
    "티커조회 - get_tickers 메서드"
   ]
  },
  {
   "cell_type": "code",
   "execution_count": 2,
   "id": "b69ad02e",
   "metadata": {},
   "outputs": [],
   "source": [
    "import pyupbit"
   ]
  },
  {
   "cell_type": "code",
   "execution_count": 3,
   "id": "29e023b9",
   "metadata": {},
   "outputs": [
    {
     "name": "stdout",
     "output_type": "stream",
     "text": [
      "['KRW-BTC', 'KRW-ETH', 'BTC-ETH', 'BTC-XRP', 'BTC-ETC', 'BTC-CVC', 'BTC-DGB', 'BTC-SC', 'BTC-SNT', 'BTC-WAVES', 'BTC-NMR', 'BTC-XEM', 'BTC-QTUM', 'BTC-BAT', 'BTC-LSK', 'BTC-STEEM', 'BTC-DOGE', 'BTC-BNT', 'BTC-XLM', 'BTC-ARDR', 'BTC-ARK', 'BTC-STORJ', 'BTC-GRS', 'BTC-RLC', 'USDT-BTC', 'USDT-ETH', 'USDT-XRP', 'USDT-ETC', 'KRW-NEO', 'KRW-MTL', 'KRW-XRP', 'KRW-ETC', 'KRW-SNT', 'KRW-WAVES', 'KRW-XEM', 'KRW-QTUM', 'KRW-LSK', 'KRW-STEEM', 'KRW-XLM', 'KRW-ARDR', 'KRW-ARK', 'KRW-STORJ', 'KRW-GRS', 'KRW-ADA', 'BTC-ADA', 'BTC-MANA', 'KRW-SBD', 'BTC-SBD', 'KRW-POWR', 'BTC-POWR', 'KRW-BTG', 'USDT-ADA', 'BTC-DNT', 'BTC-ZRX', 'BTC-TRX', 'BTC-TUSD', 'BTC-LRC', 'KRW-ICX', 'KRW-EOS', 'USDT-TUSD', 'KRW-TRX', 'BTC-POLYX', 'USDT-SC', 'USDT-TRX', 'KRW-SC', 'KRW-ONT', 'KRW-ZIL', 'KRW-POLYX', 'KRW-ZRX', 'KRW-LOOM', 'BTC-BCH', 'USDT-BCH', 'KRW-BCH', 'BTC-HIFI', 'BTC-LOOM', 'KRW-BAT', 'KRW-IOST', 'USDT-DGB', 'KRW-CVC', 'KRW-IQ', 'KRW-IOTA', 'BTC-RVN', 'BTC-GO', 'BTC-UPP', 'BTC-ENJ', 'KRW-HIFI', 'KRW-ONG', 'KRW-GAS', 'BTC-MTL', 'KRW-UPP', 'KRW-ELF', 'USDT-DOGE', 'USDT-ZRX', 'USDT-RVN', 'USDT-BAT', 'KRW-KNC', 'BTC-MOC', 'BTC-ZIL', 'KRW-BSV', 'BTC-BSV', 'BTC-IOST', 'KRW-THETA', 'BTC-DENT', 'KRW-QKC', 'BTC-ELF', 'KRW-BTT', 'BTC-IOTX', 'BTC-SOLVE', 'BTC-NKN', 'BTC-META', 'KRW-MOC', 'BTC-ANKR', 'BTC-CRO', 'KRW-TFUEL', 'KRW-MANA', 'KRW-ANKR', 'BTC-ORBS', 'BTC-AERGO', 'KRW-AERGO', 'KRW-ATOM', 'KRW-TT', 'KRW-CRE', 'BTC-ATOM', 'BTC-STPT', 'KRW-MBL', 'BTC-EOS', 'BTC-DAI', 'BTC-MKR', 'BTC-BORA', 'KRW-WAXP', 'BTC-WAXP', 'KRW-HBAR', 'KRW-MED', 'BTC-MED', 'BTC-MLK', 'KRW-MLK', 'KRW-STPT', 'BTC-VET', 'KRW-ORBS', 'BTC-CHZ', 'KRW-VET', 'BTC-FX', 'BTC-OGN', 'KRW-CHZ', 'BTC-XTZ', 'BTC-HIVE', 'BTC-HBD', 'BTC-OBSR', 'BTC-DKA', 'KRW-STMX', 'BTC-STMX', 'BTC-AHT', 'KRW-DKA', 'BTC-LINK', 'KRW-HIVE', 'KRW-KAVA', 'BTC-KAVA', 'KRW-AHT', 'KRW-LINK', 'KRW-XTZ', 'KRW-BORA', 'BTC-JST', 'BTC-CHR', 'BTC-DAD', 'BTC-TON', 'KRW-JST', 'BTC-CTSI', 'BTC-DOT', 'KRW-CRO', 'BTC-COMP', 'BTC-SXP', 'BTC-HUNT', 'KRW-TON', 'BTC-ONIT', 'BTC-CRV', 'BTC-ALGO', 'BTC-RSR', 'KRW-SXP', 'BTC-OXT', 'BTC-PLA', 'KRW-HUNT', 'BTC-SAND', 'BTC-SUN', 'KRW-PLA', 'KRW-DOT', 'BTC-QTCON', 'BTC-MVL', 'KRW-MVL', 'BTC-REI', 'BTC-AQT', 'BTC-AXS', 'BTC-STRAX', 'KRW-STRAX', 'KRW-AQT', 'BTC-GLM', 'KRW-GLM', 'BTC-FCT2', 'BTC-SSX', 'KRW-SSX', 'KRW-META', 'KRW-FCT2', 'BTC-FIL', 'BTC-UNI', 'BTC-INJ', 'BTC-PROM', 'BTC-VAL', 'BTC-PSG', 'BTC-JUV', 'BTC-CBK', 'BTC-FOR', 'KRW-CBK', 'BTC-BFC', 'BTC-HPO', 'BTC-CELO', 'KRW-SAND', 'KRW-HPO', 'BTC-IQ', 'BTC-STX', 'KRW-DOGE', 'BTC-NEAR', 'BTC-AUCTION', 'BTC-FLOW', 'BTC-STRK', 'KRW-STRK', 'BTC-PUNDIX', 'KRW-PUNDIX', 'KRW-FLOW', 'KRW-AXS', 'KRW-STX', 'BTC-GRT', 'BTC-SNX', 'BTC-USDP', 'KRW-XEC', 'KRW-SOL', 'BTC-SOL', 'KRW-MATIC', 'BTC-MATIC', 'KRW-AAVE', 'KRW-1INCH', 'BTC-AAVE', 'BTC-1INCH', 'BTC-MASK', 'KRW-ALGO', 'BTC-AUDIO', 'KRW-NEAR', 'BTC-YGG', 'BTC-GTC', 'BTC-OCEAN', 'BTC-CTC', 'BTC-LPT', 'KRW-AVAX', 'BTC-AVAX', 'BTC-IMX', 'BTC-RNDR', 'BTC-RLY', 'KRW-T', 'BTC-T', 'KRW-CELO', 'BTC-RAD', 'BTC-AGLD', 'BTC-API3', 'BTC-ARPA', 'BTC-ENS', 'KRW-GMT', 'BTC-GMT', 'BTC-APE', 'BTC-RAY', 'KRW-APT', 'BTC-APT', 'BTC-ACM', 'BTC-AFC', 'BTC-ATM', 'BTC-BAR', 'BTC-CITY', 'BTC-INTER', 'BTC-NAP', 'KRW-SHIB', 'BTC-GAL', 'BTC-ASTR', 'BTC-BLUR', 'KRW-MASK', 'BTC-ACS', 'BTC-MAGIC', 'KRW-ARB', 'BTC-ARB', 'KRW-EGLD', 'BTC-EGLD', 'KRW-SUI', 'BTC-SUI', 'KRW-GRT', 'KRW-BLUR', 'BTC-MINA', 'KRW-IMX', 'BTC-STG', 'BTC-SEI', 'KRW-SEI', 'BTC-CYBER', 'BTC-GLMR', 'KRW-MINA', 'BTC-ID', 'BTC-AXL', 'KRW-CTC', 'KRW-ASTR']\n"
     ]
    }
   ],
   "source": [
    "tickers = pyupbit.get_tickers()\n",
    "print(tickers)"
   ]
  },
  {
   "cell_type": "code",
   "execution_count": 4,
   "id": "56cc0060",
   "metadata": {},
   "outputs": [
    {
     "data": {
      "text/plain": [
       "['KRW-BTC',\n",
       " 'KRW-ETH',\n",
       " 'KRW-NEO',\n",
       " 'KRW-MTL',\n",
       " 'KRW-XRP',\n",
       " 'KRW-ETC',\n",
       " 'KRW-SNT',\n",
       " 'KRW-WAVES',\n",
       " 'KRW-XEM',\n",
       " 'KRW-QTUM',\n",
       " 'KRW-LSK',\n",
       " 'KRW-STEEM',\n",
       " 'KRW-XLM',\n",
       " 'KRW-ARDR',\n",
       " 'KRW-ARK',\n",
       " 'KRW-STORJ',\n",
       " 'KRW-GRS',\n",
       " 'KRW-ADA',\n",
       " 'KRW-SBD',\n",
       " 'KRW-POWR',\n",
       " 'KRW-BTG',\n",
       " 'KRW-ICX',\n",
       " 'KRW-EOS',\n",
       " 'KRW-TRX',\n",
       " 'KRW-SC',\n",
       " 'KRW-ONT',\n",
       " 'KRW-ZIL',\n",
       " 'KRW-POLYX',\n",
       " 'KRW-ZRX',\n",
       " 'KRW-LOOM',\n",
       " 'KRW-BCH',\n",
       " 'KRW-BAT',\n",
       " 'KRW-IOST',\n",
       " 'KRW-CVC',\n",
       " 'KRW-IQ',\n",
       " 'KRW-IOTA',\n",
       " 'KRW-HIFI',\n",
       " 'KRW-ONG',\n",
       " 'KRW-GAS',\n",
       " 'KRW-UPP',\n",
       " 'KRW-ELF',\n",
       " 'KRW-KNC',\n",
       " 'KRW-BSV',\n",
       " 'KRW-THETA',\n",
       " 'KRW-QKC',\n",
       " 'KRW-BTT',\n",
       " 'KRW-MOC',\n",
       " 'KRW-TFUEL',\n",
       " 'KRW-MANA',\n",
       " 'KRW-ANKR',\n",
       " 'KRW-AERGO',\n",
       " 'KRW-ATOM',\n",
       " 'KRW-TT',\n",
       " 'KRW-CRE',\n",
       " 'KRW-MBL',\n",
       " 'KRW-WAXP',\n",
       " 'KRW-HBAR',\n",
       " 'KRW-MED',\n",
       " 'KRW-MLK',\n",
       " 'KRW-STPT',\n",
       " 'KRW-ORBS',\n",
       " 'KRW-VET',\n",
       " 'KRW-CHZ',\n",
       " 'KRW-STMX',\n",
       " 'KRW-DKA',\n",
       " 'KRW-HIVE',\n",
       " 'KRW-KAVA',\n",
       " 'KRW-AHT',\n",
       " 'KRW-LINK',\n",
       " 'KRW-XTZ',\n",
       " 'KRW-BORA',\n",
       " 'KRW-JST',\n",
       " 'KRW-CRO',\n",
       " 'KRW-TON',\n",
       " 'KRW-SXP',\n",
       " 'KRW-HUNT',\n",
       " 'KRW-PLA',\n",
       " 'KRW-DOT',\n",
       " 'KRW-MVL',\n",
       " 'KRW-STRAX',\n",
       " 'KRW-AQT',\n",
       " 'KRW-GLM',\n",
       " 'KRW-SSX',\n",
       " 'KRW-META',\n",
       " 'KRW-FCT2',\n",
       " 'KRW-CBK',\n",
       " 'KRW-SAND',\n",
       " 'KRW-HPO',\n",
       " 'KRW-DOGE',\n",
       " 'KRW-STRK',\n",
       " 'KRW-PUNDIX',\n",
       " 'KRW-FLOW',\n",
       " 'KRW-AXS',\n",
       " 'KRW-STX',\n",
       " 'KRW-XEC',\n",
       " 'KRW-SOL',\n",
       " 'KRW-MATIC',\n",
       " 'KRW-AAVE',\n",
       " 'KRW-1INCH',\n",
       " 'KRW-ALGO',\n",
       " 'KRW-NEAR',\n",
       " 'KRW-AVAX',\n",
       " 'KRW-T',\n",
       " 'KRW-CELO',\n",
       " 'KRW-GMT',\n",
       " 'KRW-APT',\n",
       " 'KRW-SHIB',\n",
       " 'KRW-MASK',\n",
       " 'KRW-ARB',\n",
       " 'KRW-EGLD',\n",
       " 'KRW-SUI',\n",
       " 'KRW-GRT',\n",
       " 'KRW-BLUR',\n",
       " 'KRW-IMX',\n",
       " 'KRW-SEI',\n",
       " 'KRW-MINA',\n",
       " 'KRW-CTC',\n",
       " 'KRW-ASTR']"
      ]
     },
     "execution_count": 4,
     "metadata": {},
     "output_type": "execute_result"
    }
   ],
   "source": [
    "pyupbit.get_tickers(fiat=\"KRW\") # 원화시장에서 있는 티커만 조회"
   ]
  },
  {
   "cell_type": "markdown",
   "id": "90b15768",
   "metadata": {},
   "source": [
    "현재가 조회"
   ]
  },
  {
   "cell_type": "code",
   "execution_count": 6,
   "id": "284be299",
   "metadata": {},
   "outputs": [
    {
     "data": {
      "text/plain": [
       "57113000.0"
      ]
     },
     "execution_count": 6,
     "metadata": {},
     "output_type": "execute_result"
    }
   ],
   "source": [
    "pyupbit.get_current_price('KRW-BTC')"
   ]
  },
  {
   "cell_type": "code",
   "execution_count": 8,
   "id": "7856a2ad",
   "metadata": {},
   "outputs": [
    {
     "name": "stdout",
     "output_type": "stream",
     "text": [
      "KRW-BTC 57208000.0\n",
      "KRW-ETH 2981000.0\n",
      "BTC-ETH 0.05238600\n",
      "BTC-XRP 0.00001450\n",
      "BTC-ETC 0.00046782\n",
      "BTC-CVC 0.00000242\n",
      "BTC-DGB 0.00000019\n",
      "BTC-SC 0.00000016\n",
      "BTC-SNT 0.00000096\n",
      "BTC-WAVES 0.00005395\n"
     ]
    }
   ],
   "source": [
    "# 모든 티커들의 현재가를 출력\n",
    "import time\n",
    "\n",
    "# 10개만 출력 \n",
    "for t in tickers[:10]:\n",
    "    price = pyupbit.get_current_price(t)\n",
    "    \n",
    "    if t[:3] == 'KRW':\n",
    "        print(t, f\"{price}\") # 원화시장은 소수점이 없이 출력 \n",
    "    else:\n",
    "        print(t, f\"{price:.8f}\") # 소수점 8자리까지만 출력 \n",
    "        \n",
    "    time.sleep(0.1) # 10초 제한때문에 시간 제한을 줘야함"
   ]
  },
  {
   "cell_type": "code",
   "execution_count": 11,
   "id": "6727d3db",
   "metadata": {},
   "outputs": [
    {
     "data": {
      "text/plain": [
       "{'KRW-BTC': 57452000.0, 'BTC-ETH': 0.052386}"
      ]
     },
     "execution_count": 11,
     "metadata": {},
     "output_type": "execute_result"
    }
   ],
   "source": [
    "# 다수의 티커 조회\n",
    "data = pyupbit.get_current_price([ \"KRW-BTC\", \"BTC-ETH\" ])\n",
    "data"
   ]
  },
  {
   "cell_type": "code",
   "execution_count": null,
   "id": "fa109690",
   "metadata": {},
   "outputs": [],
   "source": []
  }
 ],
 "metadata": {
  "kernelspec": {
   "display_name": "Python 3 (ipykernel)",
   "language": "python",
   "name": "python3"
  },
  "language_info": {
   "codemirror_mode": {
    "name": "ipython",
    "version": 3
   },
   "file_extension": ".py",
   "mimetype": "text/x-python",
   "name": "python",
   "nbconvert_exporter": "python",
   "pygments_lexer": "ipython3",
   "version": "3.11.5"
  }
 },
 "nbformat": 4,
 "nbformat_minor": 5
}
