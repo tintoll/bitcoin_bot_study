{
 "cells": [
  {
   "cell_type": "code",
   "execution_count": 1,
   "id": "c665ef87",
   "metadata": {},
   "outputs": [],
   "source": [
    "import pyupbit"
   ]
  },
  {
   "cell_type": "code",
   "execution_count": 2,
   "id": "71fbd46c",
   "metadata": {},
   "outputs": [],
   "source": [
    "r = pyupbit.get_orderbook('KRW-BTC')  # 호가창 데이터 호출, ['','']<-- 이렇게 여러개도 호출 가능 "
   ]
  },
  {
   "cell_type": "code",
   "execution_count": 11,
   "id": "f12030e4",
   "metadata": {},
   "outputs": [
    {
     "data": {
      "text/plain": [
       "5"
      ]
     },
     "execution_count": 11,
     "metadata": {},
     "output_type": "execute_result"
    }
   ],
   "source": [
    "len(r)"
   ]
  },
  {
   "cell_type": "code",
   "execution_count": 13,
   "id": "36935f2a",
   "metadata": {},
   "outputs": [
    {
     "data": {
      "text/plain": [
       "dict_keys(['market', 'timestamp', 'total_ask_size', 'total_bid_size', 'orderbook_units'])"
      ]
     },
     "execution_count": 13,
     "metadata": {},
     "output_type": "execute_result"
    }
   ],
   "source": [
    "r.keys()"
   ]
  },
  {
   "cell_type": "code",
   "execution_count": 14,
   "id": "85ad59bb",
   "metadata": {},
   "outputs": [
    {
     "data": {
      "text/plain": [
       "'KRW-BTC'"
      ]
     },
     "execution_count": 14,
     "metadata": {},
     "output_type": "execute_result"
    }
   ],
   "source": [
    "r['market']"
   ]
  },
  {
   "cell_type": "code",
   "execution_count": 17,
   "id": "e4a2af35",
   "metadata": {},
   "outputs": [
    {
     "data": {
      "text/plain": [
       "54.0173778701484"
      ]
     },
     "execution_count": 17,
     "metadata": {},
     "output_type": "execute_result"
    }
   ],
   "source": [
    "r['timestamp'] / 1000 / 60 / 60 /24 /365 # ms 값으로 1970년 이후로 54년이 지난것이다. "
   ]
  },
  {
   "cell_type": "code",
   "execution_count": 18,
   "id": "747742e3",
   "metadata": {},
   "outputs": [],
   "source": [
    "import pandas as pd"
   ]
  },
  {
   "cell_type": "code",
   "execution_count": 19,
   "id": "dfd1ac4f",
   "metadata": {},
   "outputs": [
    {
     "data": {
      "text/plain": [
       "Timestamp('2023-12-25 08:13:48.513000')"
      ]
     },
     "execution_count": 19,
     "metadata": {},
     "output_type": "execute_result"
    }
   ],
   "source": [
    "pd.to_datetime(r['timestamp'], unit=\"ms\")"
   ]
  },
  {
   "cell_type": "code",
   "execution_count": 20,
   "id": "ae5b3bf3",
   "metadata": {},
   "outputs": [],
   "source": [
    "import datetime"
   ]
  },
  {
   "cell_type": "code",
   "execution_count": 21,
   "id": "5987d28a",
   "metadata": {},
   "outputs": [
    {
     "name": "stdout",
     "output_type": "stream",
     "text": [
      "2023-12-25 17:21:07.628047\n"
     ]
    }
   ],
   "source": [
    "print(datetime.datetime.now()) # 현재 시간 가져오기 "
   ]
  },
  {
   "cell_type": "code",
   "execution_count": 22,
   "id": "e7864ec8",
   "metadata": {},
   "outputs": [],
   "source": [
    "# 우리 나라 시간으로 변환하기 "
   ]
  },
  {
   "cell_type": "code",
   "execution_count": 25,
   "id": "d5b91b57",
   "metadata": {},
   "outputs": [
    {
     "data": {
      "text/plain": [
       "Timestamp('2023-12-25 17:13:48.513000+0900', tz='Asia/Seoul')"
      ]
     },
     "execution_count": 25,
     "metadata": {},
     "output_type": "execute_result"
    }
   ],
   "source": [
    "utcTime = pd.to_datetime(r['timestamp'], unit=\"ms\", utc=True)\n",
    "utcTime.tz_convert('asia/Seoul')"
   ]
  },
  {
   "cell_type": "code",
   "execution_count": 26,
   "id": "4663bafe",
   "metadata": {},
   "outputs": [],
   "source": [
    "# orderbook_units"
   ]
  },
  {
   "cell_type": "code",
   "execution_count": 31,
   "id": "796b0a27",
   "metadata": {},
   "outputs": [
    {
     "name": "stdout",
     "output_type": "stream",
     "text": [
      "58117000.0 0.0167\n",
      "58111000.0 0.10970839\n",
      "58107000.0 0.001\n",
      "58104000.0 0.00054771\n",
      "58103000.0 0.01606836\n",
      "58102000.0 2.15265162\n",
      "58101000.0 0.17710416\n",
      "58100000.0 0.02194444\n",
      "58099000.0 0.0035097\n",
      "58098000.0 0.00154947\n",
      "58096000.0 0.01551585\n",
      "58093000.0 0.04621869\n",
      "58092000.0 0.13936386\n",
      "58091000.0 0.07474222\n",
      "58074000.0 0.00955543\n"
     ]
    }
   ],
   "source": [
    "# 매도 호가가격 및 수량 가져오기 \n",
    "for 변수 in r['orderbook_units'][ : : -1] : # 큰 가격부터 가져오기 위해서 거꾸로 출력\n",
    "    print(변수['ask_price'], 변수['ask_size'])"
   ]
  },
  {
   "cell_type": "code",
   "execution_count": 32,
   "id": "5bf8231a",
   "metadata": {},
   "outputs": [
    {
     "name": "stdout",
     "output_type": "stream",
     "text": [
      "58061000.0 0.16094401\n",
      "58059000.0 1.00202164\n",
      "58057000.0 0.04028261\n",
      "58056000.0 0.25040564\n",
      "58055000.0 0.00325819\n",
      "58054000.0 0.00172254\n",
      "58051000.0 0.08613116\n",
      "58050000.0 0.56299503\n",
      "58044000.0 0.05757071\n",
      "58040000.0 0.31697331\n",
      "58039000.0 0.12988208\n",
      "58038000.0 0.11238053\n",
      "58037000.0 0.10794453\n",
      "58036000.0 0.24609731\n",
      "58035000.0 0.35186227\n"
     ]
    }
   ],
   "source": [
    "# 매수 호가가격 및 수량 가져오기 \n",
    "for 변수 in r['orderbook_units']: \n",
    "    print(변수['bid_price'], 변수['bid_size'])"
   ]
  },
  {
   "cell_type": "code",
   "execution_count": null,
   "id": "f5bf33e8",
   "metadata": {},
   "outputs": [],
   "source": []
  }
 ],
 "metadata": {
  "kernelspec": {
   "display_name": "Python 3 (ipykernel)",
   "language": "python",
   "name": "python3"
  },
  "language_info": {
   "codemirror_mode": {
    "name": "ipython",
    "version": 3
   },
   "file_extension": ".py",
   "mimetype": "text/x-python",
   "name": "python",
   "nbconvert_exporter": "python",
   "pygments_lexer": "ipython3",
   "version": "3.11.5"
  }
 },
 "nbformat": 4,
 "nbformat_minor": 5
}
