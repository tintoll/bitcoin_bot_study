{
 "cells": [
  {
   "cell_type": "code",
   "execution_count": 4,
   "id": "655c4691",
   "metadata": {},
   "outputs": [],
   "source": [
    "import pyupbit\n",
    "from pyupbit import Upbit"
   ]
  },
  {
   "cell_type": "code",
   "execution_count": 5,
   "id": "a09434ab",
   "metadata": {},
   "outputs": [],
   "source": [
    "# file에서 정보 읽어오기 with를 하면 file.close를 안해줘도 된다.\n",
    "with open(\"real.txt\", \"r\") as f:\n",
    "    access = f.readline().strip()\n",
    "    secret = f.readline().strip()\n",
    "    upbit = Upbit(access, secret)\n",
    "    "
   ]
  },
  {
   "cell_type": "code",
   "execution_count": 9,
   "id": "826fd43d",
   "metadata": {},
   "outputs": [
    {
     "name": "stdout",
     "output_type": "stream",
     "text": [
      "[]\n",
      "0\n"
     ]
    }
   ],
   "source": [
    "# 전체 잔고 정보 호출\n",
    "print(upbit.get_balances()) \n",
    "# 한개의 잔고에 있는 티커 정보 호출\n",
    "print(upbit.get_balance('KRW-BTC'))"
   ]
  },
  {
   "cell_type": "code",
   "execution_count": null,
   "id": "6301d6d8",
   "metadata": {},
   "outputs": [],
   "source": []
  }
 ],
 "metadata": {
  "kernelspec": {
   "display_name": "Python 3 (ipykernel)",
   "language": "python",
   "name": "python3"
  },
  "language_info": {
   "codemirror_mode": {
    "name": "ipython",
    "version": 3
   },
   "file_extension": ".py",
   "mimetype": "text/x-python",
   "name": "python",
   "nbconvert_exporter": "python",
   "pygments_lexer": "ipython3",
   "version": "3.11.5"
  }
 },
 "nbformat": 4,
 "nbformat_minor": 5
}
