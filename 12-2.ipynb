{
 "cells": [
  {
   "cell_type": "code",
   "execution_count": 5,
   "id": "77d7a576",
   "metadata": {},
   "outputs": [],
   "source": [
    "import pyupbit\n",
    "\n",
    "with open(\"real.txt\", \"r\") as f:\n",
    "    string = f.readline()\n",
    "    access = string.strip()\n",
    "\n",
    "    string = f.readline()\n",
    "    secret = string.strip()\n",
    "   \n",
    "upbit = pyupbit.Upbit(access, secret)"
   ]
  },
  {
   "cell_type": "code",
   "execution_count": 4,
   "id": "e09c835b",
   "metadata": {},
   "outputs": [
    {
     "data": {
      "text/plain": [
       "[{'currency': 'KRW',\n",
       "  'balance': '800000',\n",
       "  'locked': '0',\n",
       "  'avg_buy_price': '0',\n",
       "  'avg_buy_price_modified': True,\n",
       "  'unit_currency': 'KRW'}]"
      ]
     },
     "execution_count": 4,
     "metadata": {},
     "output_type": "execute_result"
    }
   ],
   "source": [
    "upbit.get_balances()"
   ]
  },
  {
   "cell_type": "code",
   "execution_count": 13,
   "id": "62c90a8f",
   "metadata": {},
   "outputs": [
    {
     "data": {
      "text/plain": [
       "{'uuid': '7ff4720f-c8a1-415a-90f9-406e7f0c757b',\n",
       " 'side': 'bid',\n",
       " 'ord_type': 'limit',\n",
       " 'price': '750',\n",
       " 'state': 'wait',\n",
       " 'market': 'KRW-XRP',\n",
       " 'created_at': '2024-01-08T04:40:38+09:00',\n",
       " 'volume': '10',\n",
       " 'remaining_volume': '10',\n",
       " 'reserved_fee': '3.75',\n",
       " 'remaining_fee': '3.75',\n",
       " 'paid_fee': '0',\n",
       " 'locked': '7503.75',\n",
       " 'executed_volume': '0',\n",
       " 'trades_count': 0}"
      ]
     },
     "execution_count": 13,
     "metadata": {},
     "output_type": "execute_result"
    }
   ],
   "source": [
    "# 지정가 매수\n",
    "upbit.buy_limit_order(\"KRW-XRP\", 750, 10)"
   ]
  },
  {
   "cell_type": "code",
   "execution_count": 14,
   "id": "6350daf3",
   "metadata": {},
   "outputs": [
    {
     "name": "stdout",
     "output_type": "stream",
     "text": [
      "InsufficientFundsAsk\n"
     ]
    }
   ],
   "source": [
    "# 지정가 매도\n",
    "upbit.sell_limit_order(\"KRW-XRP\", 800, 10)"
   ]
  },
  {
   "cell_type": "code",
   "execution_count": 15,
   "id": "e06e2435",
   "metadata": {},
   "outputs": [],
   "source": [
    "r = upbit.get_order(\"KRW-XRP\", state=\"cancel\")"
   ]
  },
  {
   "cell_type": "code",
   "execution_count": 16,
   "id": "775bafcb",
   "metadata": {},
   "outputs": [],
   "source": [
    "from pandas import DataFrame"
   ]
  },
  {
   "cell_type": "code",
   "execution_count": 17,
   "id": "64aff532",
   "metadata": {},
   "outputs": [
    {
     "data": {
      "text/html": [
       "<div>\n",
       "<style scoped>\n",
       "    .dataframe tbody tr th:only-of-type {\n",
       "        vertical-align: middle;\n",
       "    }\n",
       "\n",
       "    .dataframe tbody tr th {\n",
       "        vertical-align: top;\n",
       "    }\n",
       "\n",
       "    .dataframe thead th {\n",
       "        text-align: right;\n",
       "    }\n",
       "</style>\n",
       "<table border=\"1\" class=\"dataframe\">\n",
       "  <thead>\n",
       "    <tr style=\"text-align: right;\">\n",
       "      <th></th>\n",
       "      <th>uuid</th>\n",
       "      <th>side</th>\n",
       "      <th>ord_type</th>\n",
       "      <th>price</th>\n",
       "      <th>state</th>\n",
       "      <th>market</th>\n",
       "      <th>volume</th>\n",
       "      <th>remaining_volume</th>\n",
       "      <th>reserved_fee</th>\n",
       "      <th>remaining_fee</th>\n",
       "      <th>paid_fee</th>\n",
       "      <th>locked</th>\n",
       "      <th>executed_volume</th>\n",
       "      <th>trades_count</th>\n",
       "    </tr>\n",
       "    <tr>\n",
       "      <th>created_at</th>\n",
       "      <th></th>\n",
       "      <th></th>\n",
       "      <th></th>\n",
       "      <th></th>\n",
       "      <th></th>\n",
       "      <th></th>\n",
       "      <th></th>\n",
       "      <th></th>\n",
       "      <th></th>\n",
       "      <th></th>\n",
       "      <th></th>\n",
       "      <th></th>\n",
       "      <th></th>\n",
       "      <th></th>\n",
       "    </tr>\n",
       "  </thead>\n",
       "  <tbody>\n",
       "    <tr>\n",
       "      <th>2024-01-08T04:40:38+09:00</th>\n",
       "      <td>7ff4720f-c8a1-415a-90f9-406e7f0c757b</td>\n",
       "      <td>bid</td>\n",
       "      <td>limit</td>\n",
       "      <td>750</td>\n",
       "      <td>cancel</td>\n",
       "      <td>KRW-XRP</td>\n",
       "      <td>10</td>\n",
       "      <td>10</td>\n",
       "      <td>3.75</td>\n",
       "      <td>3.75</td>\n",
       "      <td>0</td>\n",
       "      <td>7503.75</td>\n",
       "      <td>0</td>\n",
       "      <td>0</td>\n",
       "    </tr>\n",
       "    <tr>\n",
       "      <th>2024-01-08T04:39:44+09:00</th>\n",
       "      <td>3fafdd74-8570-4ba0-9146-dfb1940e3816</td>\n",
       "      <td>bid</td>\n",
       "      <td>limit</td>\n",
       "      <td>750</td>\n",
       "      <td>cancel</td>\n",
       "      <td>KRW-XRP</td>\n",
       "      <td>10</td>\n",
       "      <td>10</td>\n",
       "      <td>3.75</td>\n",
       "      <td>3.75</td>\n",
       "      <td>0</td>\n",
       "      <td>7503.75</td>\n",
       "      <td>0</td>\n",
       "      <td>0</td>\n",
       "    </tr>\n",
       "  </tbody>\n",
       "</table>\n",
       "</div>"
      ],
      "text/plain": [
       "                                                           uuid side ord_type  \\\n",
       "created_at                                                                      \n",
       "2024-01-08T04:40:38+09:00  7ff4720f-c8a1-415a-90f9-406e7f0c757b  bid    limit   \n",
       "2024-01-08T04:39:44+09:00  3fafdd74-8570-4ba0-9146-dfb1940e3816  bid    limit   \n",
       "\n",
       "                          price   state   market volume remaining_volume  \\\n",
       "created_at                                                                 \n",
       "2024-01-08T04:40:38+09:00   750  cancel  KRW-XRP     10               10   \n",
       "2024-01-08T04:39:44+09:00   750  cancel  KRW-XRP     10               10   \n",
       "\n",
       "                          reserved_fee remaining_fee paid_fee   locked  \\\n",
       "created_at                                                               \n",
       "2024-01-08T04:40:38+09:00         3.75          3.75        0  7503.75   \n",
       "2024-01-08T04:39:44+09:00         3.75          3.75        0  7503.75   \n",
       "\n",
       "                          executed_volume  trades_count  \n",
       "created_at                                               \n",
       "2024-01-08T04:40:38+09:00               0             0  \n",
       "2024-01-08T04:39:44+09:00               0             0  "
      ]
     },
     "execution_count": 17,
     "metadata": {},
     "output_type": "execute_result"
    }
   ],
   "source": [
    "df = DataFrame(r)\n",
    "df = df.set_index('created_at')\n",
    "df"
   ]
  },
  {
   "cell_type": "code",
   "execution_count": 22,
   "id": "7a62c247",
   "metadata": {},
   "outputs": [],
   "source": [
    "import pyupbit\n",
    "df = pyupbit.get_ohlcv(\"KRW-BTC\")"
   ]
  },
  {
   "cell_type": "code",
   "execution_count": 27,
   "id": "0338b109",
   "metadata": {},
   "outputs": [],
   "source": [
    "df.to_excel('BTC.xlsx')"
   ]
  },
  {
   "cell_type": "code",
   "execution_count": 26,
   "id": "f4c6bb25",
   "metadata": {},
   "outputs": [
    {
     "name": "stdout",
     "output_type": "stream",
     "text": [
      "Collecting openpyxl\n",
      "  Downloading openpyxl-3.1.2-py2.py3-none-any.whl (249 kB)\n",
      "\u001b[2K     \u001b[90m━━━━━━━━━━━━━━━━━━━━━━━━━━━━━━━━━━━━━━━\u001b[0m \u001b[32m250.0/250.0 kB\u001b[0m \u001b[31m8.2 MB/s\u001b[0m eta \u001b[36m0:00:00\u001b[0m\n",
      "\u001b[?25hCollecting et-xmlfile (from openpyxl)\n",
      "  Downloading et_xmlfile-1.1.0-py3-none-any.whl (4.7 kB)\n",
      "Installing collected packages: et-xmlfile, openpyxl\n",
      "Successfully installed et-xmlfile-1.1.0 openpyxl-3.1.2\n",
      "Note: you may need to restart the kernel to use updated packages.\n"
     ]
    }
   ],
   "source": [
    "pip install openpyxl"
   ]
  },
  {
   "cell_type": "code",
   "execution_count": null,
   "id": "bd8894a1",
   "metadata": {},
   "outputs": [],
   "source": []
  }
 ],
 "metadata": {
  "kernelspec": {
   "display_name": "Python 3 (ipykernel)",
   "language": "python",
   "name": "python3"
  },
  "language_info": {
   "codemirror_mode": {
    "name": "ipython",
    "version": 3
   },
   "file_extension": ".py",
   "mimetype": "text/x-python",
   "name": "python",
   "nbconvert_exporter": "python",
   "pygments_lexer": "ipython3",
   "version": "3.11.5"
  }
 },
 "nbformat": 4,
 "nbformat_minor": 5
}
